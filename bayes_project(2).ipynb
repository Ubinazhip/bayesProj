{
  "cells": [
    {
      "cell_type": "code",
      "execution_count": 1,
      "metadata": {
        "colab": {
          "base_uri": "https://localhost:8080/",
          "height": 330
        },
        "id": "DY_lLpp153M0",
        "outputId": "71726171-3d16-4d49-ca55-bf7ea8b74e98"
      },
      "outputs": [
        {
          "output_type": "error",
          "ename": "MessageError",
          "evalue": "ignored",
          "traceback": [
            "\u001b[0;31m---------------------------------------------------------------------------\u001b[0m",
            "\u001b[0;31mMessageError\u001b[0m                              Traceback (most recent call last)",
            "\u001b[0;32m<ipython-input-1-d5df0069828e>\u001b[0m in \u001b[0;36m<module>\u001b[0;34m()\u001b[0m\n\u001b[1;32m      1\u001b[0m \u001b[0;32mfrom\u001b[0m \u001b[0mgoogle\u001b[0m\u001b[0;34m.\u001b[0m\u001b[0mcolab\u001b[0m \u001b[0;32mimport\u001b[0m \u001b[0mdrive\u001b[0m\u001b[0;34m\u001b[0m\u001b[0;34m\u001b[0m\u001b[0m\n\u001b[0;32m----> 2\u001b[0;31m \u001b[0mdrive\u001b[0m\u001b[0;34m.\u001b[0m\u001b[0mmount\u001b[0m\u001b[0;34m(\u001b[0m\u001b[0;34m'/content/drive'\u001b[0m\u001b[0;34m)\u001b[0m\u001b[0;34m\u001b[0m\u001b[0;34m\u001b[0m\u001b[0m\n\u001b[0m",
            "\u001b[0;32m/usr/local/lib/python3.7/dist-packages/google/colab/drive.py\u001b[0m in \u001b[0;36mmount\u001b[0;34m(mountpoint, force_remount, timeout_ms, use_metadata_server)\u001b[0m\n\u001b[1;32m    111\u001b[0m       \u001b[0mtimeout_ms\u001b[0m\u001b[0;34m=\u001b[0m\u001b[0mtimeout_ms\u001b[0m\u001b[0;34m,\u001b[0m\u001b[0;34m\u001b[0m\u001b[0;34m\u001b[0m\u001b[0m\n\u001b[1;32m    112\u001b[0m       \u001b[0muse_metadata_server\u001b[0m\u001b[0;34m=\u001b[0m\u001b[0muse_metadata_server\u001b[0m\u001b[0;34m,\u001b[0m\u001b[0;34m\u001b[0m\u001b[0;34m\u001b[0m\u001b[0m\n\u001b[0;32m--> 113\u001b[0;31m       ephemeral=ephemeral)\n\u001b[0m\u001b[1;32m    114\u001b[0m \u001b[0;34m\u001b[0m\u001b[0m\n\u001b[1;32m    115\u001b[0m \u001b[0;34m\u001b[0m\u001b[0m\n",
            "\u001b[0;32m/usr/local/lib/python3.7/dist-packages/google/colab/drive.py\u001b[0m in \u001b[0;36m_mount\u001b[0;34m(mountpoint, force_remount, timeout_ms, use_metadata_server, ephemeral)\u001b[0m\n\u001b[1;32m    134\u001b[0m   \u001b[0;32mif\u001b[0m \u001b[0mephemeral\u001b[0m\u001b[0;34m:\u001b[0m\u001b[0;34m\u001b[0m\u001b[0;34m\u001b[0m\u001b[0m\n\u001b[1;32m    135\u001b[0m     _message.blocking_request(\n\u001b[0;32m--> 136\u001b[0;31m         'request_auth', request={'authType': 'dfs_ephemeral'}, timeout_sec=None)\n\u001b[0m\u001b[1;32m    137\u001b[0m \u001b[0;34m\u001b[0m\u001b[0m\n\u001b[1;32m    138\u001b[0m   \u001b[0mmountpoint\u001b[0m \u001b[0;34m=\u001b[0m \u001b[0m_os\u001b[0m\u001b[0;34m.\u001b[0m\u001b[0mpath\u001b[0m\u001b[0;34m.\u001b[0m\u001b[0mexpanduser\u001b[0m\u001b[0;34m(\u001b[0m\u001b[0mmountpoint\u001b[0m\u001b[0;34m)\u001b[0m\u001b[0;34m\u001b[0m\u001b[0;34m\u001b[0m\u001b[0m\n",
            "\u001b[0;32m/usr/local/lib/python3.7/dist-packages/google/colab/_message.py\u001b[0m in \u001b[0;36mblocking_request\u001b[0;34m(request_type, request, timeout_sec, parent)\u001b[0m\n\u001b[1;32m    173\u001b[0m   request_id = send_request(\n\u001b[1;32m    174\u001b[0m       request_type, request, parent=parent, expect_reply=True)\n\u001b[0;32m--> 175\u001b[0;31m   \u001b[0;32mreturn\u001b[0m \u001b[0mread_reply_from_input\u001b[0m\u001b[0;34m(\u001b[0m\u001b[0mrequest_id\u001b[0m\u001b[0;34m,\u001b[0m \u001b[0mtimeout_sec\u001b[0m\u001b[0;34m)\u001b[0m\u001b[0;34m\u001b[0m\u001b[0;34m\u001b[0m\u001b[0m\n\u001b[0m",
            "\u001b[0;32m/usr/local/lib/python3.7/dist-packages/google/colab/_message.py\u001b[0m in \u001b[0;36mread_reply_from_input\u001b[0;34m(message_id, timeout_sec)\u001b[0m\n\u001b[1;32m    104\u001b[0m         reply.get('colab_msg_id') == message_id):\n\u001b[1;32m    105\u001b[0m       \u001b[0;32mif\u001b[0m \u001b[0;34m'error'\u001b[0m \u001b[0;32min\u001b[0m \u001b[0mreply\u001b[0m\u001b[0;34m:\u001b[0m\u001b[0;34m\u001b[0m\u001b[0;34m\u001b[0m\u001b[0m\n\u001b[0;32m--> 106\u001b[0;31m         \u001b[0;32mraise\u001b[0m \u001b[0mMessageError\u001b[0m\u001b[0;34m(\u001b[0m\u001b[0mreply\u001b[0m\u001b[0;34m[\u001b[0m\u001b[0;34m'error'\u001b[0m\u001b[0;34m]\u001b[0m\u001b[0;34m)\u001b[0m\u001b[0;34m\u001b[0m\u001b[0;34m\u001b[0m\u001b[0m\n\u001b[0m\u001b[1;32m    107\u001b[0m       \u001b[0;32mreturn\u001b[0m \u001b[0mreply\u001b[0m\u001b[0;34m.\u001b[0m\u001b[0mget\u001b[0m\u001b[0;34m(\u001b[0m\u001b[0;34m'data'\u001b[0m\u001b[0;34m,\u001b[0m \u001b[0;32mNone\u001b[0m\u001b[0;34m)\u001b[0m\u001b[0;34m\u001b[0m\u001b[0;34m\u001b[0m\u001b[0m\n\u001b[1;32m    108\u001b[0m \u001b[0;34m\u001b[0m\u001b[0m\n",
            "\u001b[0;31mMessageError\u001b[0m: Error: credential propagation was unsuccessful"
          ]
        }
      ],
      "source": [
        "from google.colab import drive\n",
        "drive.mount('/content/drive')"
      ]
    },
    {
      "cell_type": "code",
      "execution_count": null,
      "metadata": {
        "colab": {
          "base_uri": "https://localhost:8080/"
        },
        "id": "TvE0rLRVCNqW",
        "outputId": "58f18840-44dd-42f2-c093-7e46f39a8897"
      },
      "outputs": [
        {
          "name": "stdout",
          "output_type": "stream",
          "text": [
            "Requirement already satisfied: tqdm in /usr/local/lib/python3.7/dist-packages (4.62.3)\n",
            "Requirement already satisfied: pyro-ppl==1.4.0 in /usr/local/lib/python3.7/dist-packages (1.4.0)\n",
            "Requirement already satisfied: tqdm>=4.36 in /usr/local/lib/python3.7/dist-packages (from pyro-ppl==1.4.0) (4.62.3)\n",
            "Requirement already satisfied: opt-einsum>=2.3.2 in /usr/local/lib/python3.7/dist-packages (from pyro-ppl==1.4.0) (3.3.0)\n",
            "Requirement already satisfied: numpy>=1.7 in /usr/local/lib/python3.7/dist-packages (from pyro-ppl==1.4.0) (1.19.5)\n",
            "Requirement already satisfied: torch>=1.5.0 in /usr/local/lib/python3.7/dist-packages (from pyro-ppl==1.4.0) (1.10.0+cu111)\n",
            "Requirement already satisfied: pyro-api>=0.1.1 in /usr/local/lib/python3.7/dist-packages (from pyro-ppl==1.4.0) (0.1.2)\n",
            "Requirement already satisfied: typing-extensions in /usr/local/lib/python3.7/dist-packages (from torch>=1.5.0->pyro-ppl==1.4.0) (3.10.0.2)\n",
            "Requirement already satisfied: matplotlib in /usr/local/lib/python3.7/dist-packages (3.2.2)\n",
            "Requirement already satisfied: kiwisolver>=1.0.1 in /usr/local/lib/python3.7/dist-packages (from matplotlib) (1.3.2)\n",
            "Requirement already satisfied: python-dateutil>=2.1 in /usr/local/lib/python3.7/dist-packages (from matplotlib) (2.8.2)\n",
            "Requirement already satisfied: cycler>=0.10 in /usr/local/lib/python3.7/dist-packages (from matplotlib) (0.11.0)\n",
            "Requirement already satisfied: numpy>=1.11 in /usr/local/lib/python3.7/dist-packages (from matplotlib) (1.19.5)\n",
            "Requirement already satisfied: pyparsing!=2.0.4,!=2.1.2,!=2.1.6,>=2.0.1 in /usr/local/lib/python3.7/dist-packages (from matplotlib) (3.0.6)\n",
            "Requirement already satisfied: six>=1.5 in /usr/local/lib/python3.7/dist-packages (from python-dateutil>=2.1->matplotlib) (1.15.0)\n",
            "Requirement already satisfied: pytest in /usr/local/lib/python3.7/dist-packages (3.6.4)\n",
            "Requirement already satisfied: six>=1.10.0 in /usr/local/lib/python3.7/dist-packages (from pytest) (1.15.0)\n",
            "Requirement already satisfied: atomicwrites>=1.0 in /usr/local/lib/python3.7/dist-packages (from pytest) (1.4.0)\n",
            "Requirement already satisfied: py>=1.5.0 in /usr/local/lib/python3.7/dist-packages (from pytest) (1.11.0)\n",
            "Requirement already satisfied: more-itertools>=4.0.0 in /usr/local/lib/python3.7/dist-packages (from pytest) (8.12.0)\n",
            "Requirement already satisfied: setuptools in /usr/local/lib/python3.7/dist-packages (from pytest) (57.4.0)\n",
            "Requirement already satisfied: pluggy<0.8,>=0.5 in /usr/local/lib/python3.7/dist-packages (from pytest) (0.7.1)\n",
            "Requirement already satisfied: attrs>=17.4.0 in /usr/local/lib/python3.7/dist-packages (from pytest) (21.2.0)\n"
          ]
        }
      ],
      "source": [
        "!pip install tqdm\n",
        "!pip install pyro-ppl==1.4.0\n",
        "!pip install matplotlib\n",
        "!pip install pytest"
      ]
    },
    {
      "cell_type": "code",
      "execution_count": null,
      "metadata": {
        "colab": {
          "base_uri": "https://localhost:8080/",
          "height": 35
        },
        "id": "0mSJB0twCly3",
        "outputId": "cd2c8830-dabe-4671-e353-c95f4c94b8bd"
      },
      "outputs": [
        {
          "data": {
            "application/vnd.google.colaboratory.intrinsic+json": {
              "type": "string"
            },
            "text/plain": [
              "'/content'"
            ]
          },
          "execution_count": 3,
          "metadata": {},
          "output_type": "execute_result"
        }
      ],
      "source": [
        "import os\n",
        "os.getcwd()"
      ]
    },
    {
      "cell_type": "code",
      "execution_count": null,
      "metadata": {
        "id": "0ShG8j5eDJQz"
      },
      "outputs": [],
      "source": [
        "os.chdir('/content/drive/MyDrive/Deep_Learning/TyXe')"
      ]
    },
    {
      "cell_type": "code",
      "execution_count": null,
      "metadata": {
        "colab": {
          "base_uri": "https://localhost:8080/",
          "height": 35
        },
        "id": "mX3kcMs7DSwr",
        "outputId": "17e3dd13-dcac-4e79-9743-08d206d51fc7"
      },
      "outputs": [
        {
          "data": {
            "application/vnd.google.colaboratory.intrinsic+json": {
              "type": "string"
            },
            "text/plain": [
              "'/content/drive/MyDrive/Deep_Learning/TyXe'"
            ]
          },
          "execution_count": 5,
          "metadata": {},
          "output_type": "execute_result"
        }
      ],
      "source": [
        "os.getcwd()"
      ]
    },
    {
      "cell_type": "code",
      "execution_count": null,
      "metadata": {
        "colab": {
          "base_uri": "https://localhost:8080/"
        },
        "id": "diYbhHYyCe4u",
        "outputId": "d52550e6-5a4e-4735-a410-e84edbf8efcb"
      },
      "outputs": [
        {
          "name": "stdout",
          "output_type": "stream",
          "text": [
            "Obtaining file:///content/drive/MyDrive/Deep_Learning/TyXe\n",
            "Requirement already satisfied: torch>=1.7.0 in /usr/local/lib/python3.7/dist-packages (from tyxe==0.0.1) (1.10.0+cu111)\n",
            "Requirement already satisfied: torchvision>=0.8.1 in /usr/local/lib/python3.7/dist-packages (from tyxe==0.0.1) (0.11.1+cu111)\n",
            "Requirement already satisfied: pyro-ppl==1.4.0 in /usr/local/lib/python3.7/dist-packages (from tyxe==0.0.1) (1.4.0)\n",
            "Requirement already satisfied: numpy>=1.7 in /usr/local/lib/python3.7/dist-packages (from pyro-ppl==1.4.0->tyxe==0.0.1) (1.19.5)\n",
            "Requirement already satisfied: tqdm>=4.36 in /usr/local/lib/python3.7/dist-packages (from pyro-ppl==1.4.0->tyxe==0.0.1) (4.62.3)\n",
            "Requirement already satisfied: pyro-api>=0.1.1 in /usr/local/lib/python3.7/dist-packages (from pyro-ppl==1.4.0->tyxe==0.0.1) (0.1.2)\n",
            "Requirement already satisfied: opt-einsum>=2.3.2 in /usr/local/lib/python3.7/dist-packages (from pyro-ppl==1.4.0->tyxe==0.0.1) (3.3.0)\n",
            "Requirement already satisfied: typing-extensions in /usr/local/lib/python3.7/dist-packages (from torch>=1.7.0->tyxe==0.0.1) (3.10.0.2)\n",
            "Requirement already satisfied: pillow!=8.3.0,>=5.3.0 in /usr/local/lib/python3.7/dist-packages (from torchvision>=0.8.1->tyxe==0.0.1) (7.1.2)\n",
            "Installing collected packages: tyxe\n",
            "  Attempting uninstall: tyxe\n",
            "    Found existing installation: tyxe 0.0.1\n",
            "    Can't uninstall 'tyxe'. No files were found to uninstall.\n",
            "  Running setup.py develop for tyxe\n",
            "Successfully installed tyxe-0.0.1\n"
          ]
        }
      ],
      "source": [
        "!pip install -e ."
      ]
    },
    {
      "cell_type": "code",
      "execution_count": null,
      "metadata": {
        "id": "fBcwWoxBDV_m"
      },
      "outputs": [],
      "source": [
        "import math\n",
        "import torch\n",
        "from torch import nn\n",
        "from torch.nn import Parameter\n",
        "import torch.nn.functional as F\n",
        "from torch.nn.modules.utils import _pair\n",
        "\n",
        "import numpy as np\n",
        "import matplotlib.pyplot as plt\n",
        "\n",
        "import os\n",
        "from os.path import exists, join, basename\n",
        "from os import makedirs, remove\n",
        "from tqdm.notebook import tqdm\n",
        "\n",
        "import urllib\n",
        "import tarfile\n",
        "import imageio\n",
        "from torchvision.transforms import Compose, CenterCrop, ToTensor, Resize\n",
        "import tyxe"
      ]
    },
    {
      "cell_type": "code",
      "execution_count": null,
      "metadata": {
        "id": "C_we48XkB8WH"
      },
      "outputs": [],
      "source": [
        ""
      ]
    },
    {
      "cell_type": "code",
      "execution_count": null,
      "metadata": {
        "id": "M0rBuJB6Bdqm"
      },
      "outputs": [],
      "source": [
        "def download_bsd300(dest=\"dataset\"):\n",
        "    output_image_dir = join(dest, \"BSD300/images\")\n",
        "\n",
        "    if not exists(output_image_dir):\n",
        "        makedirs(dest)\n",
        "        url = \"http://www2.eecs.berkeley.edu/Research/Projects/CS/vision/bsds/BSDS300-images.tgz\"\n",
        "        print(\"downloading url \", url)\n",
        "\n",
        "        data = urllib.request.urlopen(url)\n",
        "\n",
        "        file_path = join(dest, basename(url))\n",
        "        with open(file_path, 'wb') as f:\n",
        "            f.write(data.read())\n",
        "        with tarfile.open(file_path) as tar:\n",
        "            for item in tar:\n",
        "                tar.extract(item, dest)\n",
        "\n",
        "        remove(file_path)\n",
        "\n",
        "    return output_image_dir\n",
        "#if not exists(r'/content/drive/MyDrive/Deep_Learning/dataset'):\n",
        "#     download_bsd300()"
      ]
    },
    {
      "cell_type": "code",
      "execution_count": null,
      "metadata": {
        "colab": {
          "base_uri": "https://localhost:8080/"
        },
        "id": "dFSSJst7Bdqo",
        "outputId": "86bcc8fd-86ef-4eb1-e2ce-0e03f2857edb"
      },
      "outputs": [
        {
          "data": {
            "text/plain": [
              "False"
            ]
          },
          "execution_count": 8,
          "metadata": {},
          "output_type": "execute_result"
        }
      ],
      "source": [
        "torch.cuda.is_available()"
      ]
    },
    {
      "cell_type": "code",
      "execution_count": null,
      "metadata": {
        "id": "o6XydZ0gBdqp"
      },
      "outputs": [],
      "source": [
        ""
      ]
    },
    {
      "cell_type": "code",
      "execution_count": null,
      "metadata": {
        "id": "g8NkrJ8GBdqp"
      },
      "outputs": [],
      "source": [
        "upscale = 2\n",
        "center_crop = 200\n",
        "input_transform = Compose(\n",
        "    [ToTensor(),\n",
        "    CenterCrop(center_crop),\n",
        "    Resize(center_crop // upscale)])\n",
        "target_transform = Compose(\n",
        "    [ToTensor(),\n",
        "     CenterCrop(center_crop),\n",
        "    Resize(center_crop)])\n",
        "\n",
        "\n",
        "from PIL import Image\n",
        "\n",
        "class SRDataset(torch.utils.data.Dataset):\n",
        "    def __init__(self, path_to_images, transform=None):\n",
        "        self.path_to_images = path_to_images\n",
        "        self.transform = transform\n",
        "\n",
        "    def __len__(self):\n",
        "      return len(os.listdir(self.path_to_images))\n",
        "\n",
        "    def __getitem__(self, i):\n",
        "        self.imagepath = join(\n",
        "            self.path_to_images,\n",
        "            os.listdir(self.path_to_images)[i],\n",
        "        )\n",
        "        img = Image.open(self.imagepath)#.convert('YCbCr')\n",
        "        #y, _, _ = img.split()\n",
        "\n",
        "        input = input_transform(img.copy())\n",
        "        target = target_transform(img.copy())\n",
        "        return input, target\n",
        "      \n",
        "train_set = SRDataset(r'/content/drive/MyDrive/Deep_Learning/TyXe/dataset/BSDS300/images/train')\n",
        "test_set = SRDataset(r'/content/drive/MyDrive/Deep_Learning/TyXe/dataset/BSDS300/images/test')"
      ]
    },
    {
      "cell_type": "code",
      "execution_count": null,
      "metadata": {
        "id": "XRTs2SCzjHx1"
      },
      "outputs": [],
      "source": [
        "for X, y in train_set:\n",
        "  break"
      ]
    },
    {
      "cell_type": "code",
      "execution_count": null,
      "metadata": {
        "colab": {
          "base_uri": "https://localhost:8080/"
        },
        "id": "asT270kXjLwp",
        "outputId": "8327197a-99a0-4b37-a0ba-00602f4bff4e"
      },
      "outputs": [
        {
          "data": {
            "text/plain": [
              "torch.Size([3, 200, 200])"
            ]
          },
          "execution_count": 77,
          "metadata": {},
          "output_type": "execute_result"
        }
      ],
      "source": [
        "y.shape"
      ]
    },
    {
      "cell_type": "code",
      "execution_count": null,
      "metadata": {
        "id": "qSLIF52jBdqr"
      },
      "outputs": [],
      "source": [
        "# plt.imshow(train_set[0][0].squeeze(0).numpy(), cmap='gray')\n",
        "# plt.imshow(train_set[0][1].squeeze(0).numpy(), cmap='gray')"
      ]
    },
    {
      "cell_type": "code",
      "execution_count": null,
      "metadata": {
        "colab": {
          "base_uri": "https://localhost:8080/"
        },
        "id": "h-jH8dsEBdqs",
        "outputId": "6e5483ff-52a7-42ea-e368-6a94522ad54a"
      },
      "outputs": [
        {
          "name": "stdout",
          "output_type": "stream",
          "text": [
            "torch.Size([1, 3, 200, 200])\n"
          ]
        }
      ],
      "source": [
        "class CNN(nn.Module):\n",
        "    def __init__(self, upscale):\n",
        "        self.upscale = upscale\n",
        "\n",
        "        super(CNN, self).__init__()\n",
        "        self.relu = nn.ReLU()\n",
        "        self.tanh = torch.nn.Tanh()\n",
        "        self.conv1 = nn.Conv2d(3, 64, kernel_size=5, stride=1, padding=2)\n",
        "        #self.conv2 = nn.Conv2d(64, 64, kernel_size=3, stride=1, padding=1)\n",
        "        self.conv3 = nn.Conv2d(64, 32, kernel_size=3, stride=1, padding=1)\n",
        "        self.conv4 = nn.Conv2d(32, 3 * self.upscale**2, kernel_size=3, stride=1, padding=1)\n",
        "        self.psh = nn.PixelShuffle(self.upscale)\n",
        "\n",
        "    def forward(self, x):\n",
        "        x = self.relu(self.conv1(x))\n",
        "        #x = self.relu(self.conv2(x))\n",
        "        x = self.relu(self.conv3(x))\n",
        "        x = self.conv4(x)\n",
        "        x = self.psh(x)\n",
        "\n",
        "        return self.tanh(x)\n",
        "\n",
        "test = CNN(2)\n",
        "print(test(torch.rand(1, 3, 100, 100)).shape)"
      ]
    },
    {
      "cell_type": "code",
      "execution_count": null,
      "metadata": {
        "id": "ZGIbpL8xBdqu"
      },
      "outputs": [],
      "source": [
        "import pyro\n",
        "import pyro.distributions as dist\n",
        "\n",
        "training_loader = torch.utils.data.DataLoader(dataset=train_set, batch_size=200, shuffle=True)\n",
        "testing_loader =  torch.utils.data.DataLoader(dataset=test_set, batch_size=1, shuffle=False)\n",
        "\n",
        "prior = tyxe.priors.IIDPrior(dist.Normal(0, 1))\n",
        "likelihood = tyxe.likelihoods.HomoskedasticGaussian(len(train_set), scale=0.1)\n",
        "inference = tyxe.guides.AutoNormal\n",
        "bnn = tyxe.VariationalBNN(test, prior, likelihood, inference)"
      ]
    },
    {
      "cell_type": "code",
      "execution_count": null,
      "metadata": {
        "colab": {
          "background_save": true,
          "base_uri": "https://localhost:8080/"
        },
        "id": "jlUhYwqXBdqv",
        "outputId": "aff09d14-4a42-45f3-c85e-86ff9afd9050"
      },
      "outputs": [
        {
          "name": "stdout",
          "output_type": "stream",
          "text": [
            "1453599616.0\n",
            "1296984192.0\n",
            "1273993344.0\n",
            "1316035200.0\n",
            "1185877248.0\n",
            "1081704960.0\n",
            "1002447616.0\n",
            "1160722048.0\n",
            "1100585984.0\n",
            "1079954304.0\n",
            "1005466240.0\n",
            "854875904.0\n",
            "864864128.0\n",
            "696908224.0\n",
            "932139200.0\n",
            "645899584.0\n",
            "699233728.0\n",
            "874383232.0\n",
            "677160384.0\n",
            "655257024.0\n",
            "692542592.0\n",
            "633345984.0\n",
            "653338368.0\n",
            "469158624.0\n",
            "731886464.0\n",
            "640732928.0\n",
            "633289088.0\n",
            "623267456.0\n",
            "648519232.0\n",
            "628135296.0\n",
            "623487232.0\n",
            "625840384.0\n",
            "631110400.0\n",
            "628421312.0\n",
            "633143104.0\n",
            "455156480.0\n",
            "628398400.0\n",
            "624601600.0\n",
            "727001216.0\n",
            "617968000.0\n",
            "595568896.0\n",
            "616845632.0\n",
            "597981248.0\n",
            "451834720.0\n",
            "618194560.0\n",
            "615841792.0\n",
            "450591392.0\n",
            "612639808.0\n",
            "494988768.0\n",
            "593165248.0\n"
          ]
        },
        {
          "data": {
            "text/plain": [
              "<pyro.infer.svi.SVI at 0x7efe28bba150>"
            ]
          },
          "execution_count": null,
          "metadata": {},
          "output_type": "execute_result"
        }
      ],
      "source": [
        "pyro.clear_param_store()\n",
        "optim = pyro.optim.Adam({\"lr\": 1e-3})\n",
        "elbos = []\n",
        "count = 0\n",
        "def callback(bnn, i, e):\n",
        "    elbos.append(e)\n",
        "    count =+ 1\n",
        "    print(e)\n",
        "    count = 0\n",
        "\n",
        "bnn.fit(training_loader, optim, 50, callback)"
      ]
    },
    {
      "cell_type": "code",
      "execution_count": null,
      "metadata": {
        "id": "u2WbBbvUBdqv"
      },
      "outputs": [],
      "source": [
        "torch.save(bnn._pyro_params, 'bnn')"
      ]
    },
    {
      "cell_type": "code",
      "execution_count": null,
      "metadata": {
        "id": "8dFf_rq05sFS"
      },
      "outputs": [],
      "source": [
        ""
      ]
    },
    {
      "cell_type": "code",
      "execution_count": null,
      "metadata": {
        "id": "B7-9QjqvBdqw"
      },
      "outputs": [],
      "source": [
        "\n",
        "path =r'/content/drive/MyDrive/Deep_Learning/TyXe/dataset/BSDS300/images/train/100075.jpg'\n",
        "img = Image.open(path).convert('YCbCr')\n",
        "y, cb, cr = img.split()\n",
        "\n",
        "input = input_transform(y)\n",
        "#input = input.view(1, -1, y.size[1], y.size[0])\n",
        "#input = input_transform(y).unsqueeze(0)\n",
        "input = input_transform(y).unsqueeze(0)\n",
        "#model = model.eval().cuda()\n",
        "#input = input.cuda()\n",
        "\n",
        "out, kl = bnn.predict(input)\n",
        "out = out.squeeze(0)"
      ]
    },
    {
      "cell_type": "code",
      "execution_count": null,
      "metadata": {
        "colab": {
          "base_uri": "https://localhost:8080/",
          "height": 234
        },
        "id": "QV9J4jnHBdqx",
        "outputId": "a9f5d896-bbf1-478b-8ed6-bfdc4969bfac"
      },
      "outputs": [
        {
          "name": "stdout",
          "output_type": "stream",
          "text": [
            "(200, 200)\n"
          ]
        },
        {
          "data": {
            "image/png": "[encoded data removed]",
            "text/plain": [
              "<PIL.Image.Image image mode=RGB size=200x200 at 0x7EFE28EE2810>"
            ]
          },
          "execution_count": 70,
          "metadata": {},
          "output_type": "execute_result"
        }
      ],
      "source": [
        "out_img_y = out[0].data.numpy()\n",
        "out_img_y *= 255.0\n",
        "out_img_y = out_img_y.clip(0, 255)\n",
        "print(out_img_y.shape)\n",
        "out_img_y = Image.fromarray(np.uint8(out_img_y), mode='L')\n",
        "\n",
        "out_img_cb = cb.resize(out_img_y.size, Image.BICUBIC)\n",
        "out_img_cr = cr.resize(out_img_y.size, Image.BICUBIC)\n",
        "out_img = Image.merge('YCbCr', [out_img_y, out_img_cb, out_img_cr]).convert('RGB')\n",
        "out_img"
      ]
    },
    {
      "cell_type": "code",
      "execution_count": null,
      "metadata": {
        "colab": {
          "base_uri": "https://localhost:8080/"
        },
        "id": "1GEDjVaHBdqx",
        "outputId": "4f7ea015-c44d-437b-a24f-7f7673b42c75"
      },
      "outputs": [
        {
          "data": {
            "text/plain": [
              "array([[239, 240, 240, ..., 244, 249, 253],\n",
              "       [244, 242, 242, ..., 239,   0, 253],\n",
              "       [251, 249, 246, ..., 233, 246, 255],\n",
              "       ...,\n",
              "       [249, 249, 249, ..., 246, 246, 247],\n",
              "       [249, 249, 249, ..., 249, 247, 247],\n",
              "       [253, 253, 255, ..., 249, 248, 246]], dtype=uint8)"
            ]
          },
          "execution_count": 65,
          "metadata": {},
          "output_type": "execute_result"
        }
      ],
      "source": [
        "np.array(out_img)[:,:,2]"
      ]
    },
    {
      "cell_type": "code",
      "execution_count": null,
      "metadata": {
        "id": "FHIrdZaWpUyX"
      },
      "outputs": [],
      "source": [
        ""
      ]
    },
    {
      "cell_type": "code",
      "execution_count": null,
      "metadata": {
        "id": "M6otVDc8Bdqy"
      },
      "outputs": [],
      "source": [
        ""
      ]
    }
  ],
  "metadata": {
    "colab": {
      "collapsed_sections": [],
      "name": "bayes_project.ipynb",
      "provenance": []
    },
    "interpreter": {
      "hash": "58006f8b60df1345990d15c49cf7469dbbfb86e00352c424dbedaf885ac4ee6c"
    },
    "kernelspec": {
      "display_name": "Python 3 (ipykernel)",
      "language": "python",
      "name": "python3"
    },
    "language_info": {
      "codemirror_mode": {
        "name": "ipython",
        "version": 3
      },
      "file_extension": ".py",
      "mimetype": "text/x-python",
      "name": "python",
      "nbconvert_exporter": "python",
      "pygments_lexer": "ipython3",
      "version": "3.8.2"
    },
    "toc": {
      "base_numbering": 1,
      "nav_menu": {},
      "number_sections": true,
      "sideBar": true,
      "skip_h1_title": false,
      "title_cell": "Table of Contents",
      "title_sidebar": "Contents",
      "toc_cell": false,
      "toc_position": {},
      "toc_section_display": true,
      "toc_window_display": false
    },
    "varInspector": {
      "cols": {
        "lenName": 16,
        "lenType": 16,
        "lenVar": 40
      },
      "kernels_config": {
        "python": {
          "delete_cmd_postfix": "",
          "delete_cmd_prefix": "del ",
          "library": "var_list.py",
          "varRefreshCmd": "print(var_dic_list())"
        },
        "r": {
          "delete_cmd_postfix": ") ",
          "delete_cmd_prefix": "rm(",
          "library": "var_list.r",
          "varRefreshCmd": "cat(var_dic_list()) "
        }
      },
      "types_to_exclude": [
        "module",
        "function",
        "builtin_function_or_method",
        "instance",
        "_Feature"
      ],
      "window_display": false
    },
    "accelerator": "GPU"
  },
  "nbformat": 4,
  "nbformat_minor": 0
}